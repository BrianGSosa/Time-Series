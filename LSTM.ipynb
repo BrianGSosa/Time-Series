{
  "nbformat": 4,
  "nbformat_minor": 0,
  "metadata": {
    "colab": {
      "name": "LSTM.ipynb",
      "provenance": [],
      "collapsed_sections": []
    },
    "kernelspec": {
      "name": "python3",
      "display_name": "Python 3"
    }
  },
  "cells": [
    {
      "cell_type": "markdown",
      "metadata": {
        "id": "5V5iK9VkPMMn"
      },
      "source": [
        "### 2. Aplicación: Prediciendo las acciones de Netflix\n",
        "***"
      ]
    },
    {
      "cell_type": "markdown",
      "metadata": {
        "id": "Twyya2zdErLv"
      },
      "source": [
        "#### Cargamos librerias básicas para el manejo de datos, gráficas y cálculos en python"
      ]
    },
    {
      "cell_type": "code",
      "metadata": {
        "id": "PBv8ZTpBYUNH"
      },
      "source": [
        "import numpy as np\n",
        "import matplotlib.pyplot as plt\n",
        "import pandas as pd"
      ],
      "execution_count": null,
      "outputs": []
    },
    {
      "cell_type": "markdown",
      "metadata": {
        "id": "eXR1NqlwUl23"
      },
      "source": [
        "Ubicamos en nuestro espacio de trabajo las bases de datos que usaremos"
      ]
    },
    {
      "cell_type": "code",
      "metadata": {
        "id": "1UTV94s3JuFY",
        "colab": {
          "resources": {
            "http://localhost:8080/nbextensions/google.colab/files.js": {
              "data": "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",
              "ok": true,
              "headers": [
                [
                  "content-type",
                  "application/javascript"
                ]
              ],
              "status": 200,
              "status_text": ""
            }
          },
          "base_uri": "https://localhost:8080/",
          "height": 72
        },
        "outputId": "9e8a8282-03a6-41d1-ab69-4ea7157b1dc5"
      },
      "source": [
        "from google.colab import files\n",
        "uploaded = files.upload()"
      ],
      "execution_count": null,
      "outputs": [
        {
          "output_type": "display_data",
          "data": {
            "text/html": [
              "\n",
              "     <input type=\"file\" id=\"files-94a2600c-8049-4048-ba74-1b9bd9427e7e\" name=\"files[]\" multiple disabled\n",
              "        style=\"border:none\" />\n",
              "     <output id=\"result-94a2600c-8049-4048-ba74-1b9bd9427e7e\">\n",
              "      Upload widget is only available when the cell has been executed in the\n",
              "      current browser session. Please rerun this cell to enable.\n",
              "      </output>\n",
              "      <script src=\"/nbextensions/google.colab/files.js\"></script> "
            ],
            "text/plain": [
              "<IPython.core.display.HTML object>"
            ]
          },
          "metadata": {
            "tags": []
          }
        },
        {
          "output_type": "stream",
          "text": [
            "Saving NFLX1.csv to NFLX1 (1).csv\n"
          ],
          "name": "stdout"
        }
      ]
    },
    {
      "cell_type": "markdown",
      "metadata": {
        "id": "vaRf0wjqFuR5"
      },
      "source": [
        "Importamos el  Dataset de entrenamiento el cual consta de 1677 datos con información diaria de las acciones de Netflix desde el 2 de enero del 2014 hasta el 31 de agosto del 2020"
      ]
    },
    {
      "cell_type": "code",
      "metadata": {
        "id": "pTi9mNe1YUNK"
      },
      "source": [
        "nt_completa= pd.read_csv(r'NFLX1.csv')"
      ],
      "execution_count": null,
      "outputs": []
    },
    {
      "cell_type": "markdown",
      "metadata": {
        "id": "yjLUHuwZNv70"
      },
      "source": [
        "Un vistazo de la estructura de la base de datos nos muestra lo siguiente"
      ]
    },
    {
      "cell_type": "code",
      "metadata": {
        "id": "3H8ra_XDYUNN",
        "colab": {
          "base_uri": "https://localhost:8080/",
          "height": 204
        },
        "outputId": "f09fa601-0263-4c41-d3e4-000c99f53f0d"
      },
      "source": [
        "nt_completa.head()"
      ],
      "execution_count": null,
      "outputs": [
        {
          "output_type": "execute_result",
          "data": {
            "text/html": [
              "<div>\n",
              "<style scoped>\n",
              "    .dataframe tbody tr th:only-of-type {\n",
              "        vertical-align: middle;\n",
              "    }\n",
              "\n",
              "    .dataframe tbody tr th {\n",
              "        vertical-align: top;\n",
              "    }\n",
              "\n",
              "    .dataframe thead th {\n",
              "        text-align: right;\n",
              "    }\n",
              "</style>\n",
              "<table border=\"1\" class=\"dataframe\">\n",
              "  <thead>\n",
              "    <tr style=\"text-align: right;\">\n",
              "      <th></th>\n",
              "      <th>Date</th>\n",
              "      <th>Open</th>\n",
              "      <th>High</th>\n",
              "      <th>Low</th>\n",
              "      <th>Close</th>\n",
              "      <th>Adj Close</th>\n",
              "      <th>Volume</th>\n",
              "    </tr>\n",
              "  </thead>\n",
              "  <tbody>\n",
              "    <tr>\n",
              "      <th>0</th>\n",
              "      <td>2014-01-02</td>\n",
              "      <td>52.401428</td>\n",
              "      <td>52.511429</td>\n",
              "      <td>51.542858</td>\n",
              "      <td>51.831429</td>\n",
              "      <td>51.831429</td>\n",
              "      <td>12325600</td>\n",
              "    </tr>\n",
              "    <tr>\n",
              "      <th>1</th>\n",
              "      <td>2014-01-03</td>\n",
              "      <td>52.000000</td>\n",
              "      <td>52.495716</td>\n",
              "      <td>51.842857</td>\n",
              "      <td>51.871429</td>\n",
              "      <td>51.871429</td>\n",
              "      <td>10817100</td>\n",
              "    </tr>\n",
              "    <tr>\n",
              "      <th>2</th>\n",
              "      <td>2014-01-06</td>\n",
              "      <td>51.889999</td>\n",
              "      <td>52.044285</td>\n",
              "      <td>50.475716</td>\n",
              "      <td>51.367142</td>\n",
              "      <td>51.367142</td>\n",
              "      <td>15501500</td>\n",
              "    </tr>\n",
              "    <tr>\n",
              "      <th>3</th>\n",
              "      <td>2014-01-07</td>\n",
              "      <td>49.684284</td>\n",
              "      <td>49.698570</td>\n",
              "      <td>48.152859</td>\n",
              "      <td>48.500000</td>\n",
              "      <td>48.500000</td>\n",
              "      <td>36167600</td>\n",
              "    </tr>\n",
              "    <tr>\n",
              "      <th>4</th>\n",
              "      <td>2014-01-08</td>\n",
              "      <td>48.104286</td>\n",
              "      <td>49.425713</td>\n",
              "      <td>48.074287</td>\n",
              "      <td>48.712856</td>\n",
              "      <td>48.712856</td>\n",
              "      <td>20001100</td>\n",
              "    </tr>\n",
              "  </tbody>\n",
              "</table>\n",
              "</div>"
            ],
            "text/plain": [
              "         Date       Open       High        Low      Close  Adj Close    Volume\n",
              "0  2014-01-02  52.401428  52.511429  51.542858  51.831429  51.831429  12325600\n",
              "1  2014-01-03  52.000000  52.495716  51.842857  51.871429  51.871429  10817100\n",
              "2  2014-01-06  51.889999  52.044285  50.475716  51.367142  51.367142  15501500\n",
              "3  2014-01-07  49.684284  49.698570  48.152859  48.500000  48.500000  36167600\n",
              "4  2014-01-08  48.104286  49.425713  48.074287  48.712856  48.712856  20001100"
            ]
          },
          "metadata": {
            "tags": []
          },
          "execution_count": 20
        }
      ]
    },
    {
      "cell_type": "code",
      "metadata": {
        "id": "wdUCVqpeRzt8",
        "colab": {
          "base_uri": "https://localhost:8080/",
          "height": 34
        },
        "outputId": "f395ded9-c82d-4246-fa41-c458882cdf4b"
      },
      "source": [
        "len(nt_completa)"
      ],
      "execution_count": null,
      "outputs": [
        {
          "output_type": "execute_result",
          "data": {
            "text/plain": [
              "1677"
            ]
          },
          "metadata": {
            "tags": []
          },
          "execution_count": 21
        }
      ]
    },
    {
      "cell_type": "code",
      "metadata": {
        "id": "YU2aCdynWJPa",
        "colab": {
          "base_uri": "https://localhost:8080/",
          "height": 153
        },
        "outputId": "b2285f3e-425a-4d32-c3ee-da8aa8a2b3b8"
      },
      "source": [
        "print(nt_completa.dtypes)"
      ],
      "execution_count": null,
      "outputs": [
        {
          "output_type": "stream",
          "text": [
            "Date          object\n",
            "Open         float64\n",
            "High         float64\n",
            "Low          float64\n",
            "Close        float64\n",
            "Adj Close    float64\n",
            "Volume         int64\n",
            "dtype: object\n"
          ],
          "name": "stdout"
        }
      ]
    },
    {
      "cell_type": "code",
      "metadata": {
        "id": "VKdlm_tnI2Xe"
      },
      "source": [
        "nt_completa.sort_values('Date', ascending=True, inplace=True)"
      ],
      "execution_count": null,
      "outputs": []
    },
    {
      "cell_type": "code",
      "metadata": {
        "id": "E6-ESY92LCVw",
        "colab": {
          "base_uri": "https://localhost:8080/",
          "height": 295
        },
        "outputId": "5aa394a8-66c2-4bfe-be19-da66d882d440"
      },
      "source": [
        "from matplotlib import pyplot as plt\n",
        "plt.figure()\n",
        "plt.plot(nt_completa[\"Open\"])\n",
        "plt.plot(nt_completa[\"High\"])\n",
        "plt.plot(nt_completa[\"Low\"])\n",
        "plt.plot(nt_completa[\"Close\"])\n",
        "plt.title('Histórico precio de acciones Netflix')\n",
        "plt.ylabel('Precio (USD)')\n",
        "plt.xlabel('Días')\n",
        "plt.legend(['Open','High','Low','Close'], loc='upper left')\n",
        "plt.show()"
      ],
      "execution_count": null,
      "outputs": [
        {
          "output_type": "display_data",
          "data": {
            "image/png": "[encoded data removed]",
            "text/plain": [
              "<Figure size 432x288 with 1 Axes>"
            ]
          },
          "metadata": {
            "tags": [],
            "needs_background": "light"
          }
        }
      ]
    },
    {
      "cell_type": "code",
      "metadata": {
        "id": "wxb6QYlDN5pL",
        "colab": {
          "base_uri": "https://localhost:8080/",
          "height": 170
        },
        "outputId": "7ea2a28d-1c58-4dce-e457-3612ad9bbe1a"
      },
      "source": [
        "print(\"Verificación de que no existan NAs en la base\\n\", nt_completa.isna().sum())"
      ],
      "execution_count": null,
      "outputs": [
        {
          "output_type": "stream",
          "text": [
            "Verificación de que no existan NAs en la base\n",
            " Date         0\n",
            "Open         0\n",
            "High         0\n",
            "Low          0\n",
            "Close        0\n",
            "Adj Close    0\n",
            "Volume       0\n",
            "dtype: int64\n"
          ],
          "name": "stdout"
        }
      ]
    },
    {
      "cell_type": "markdown",
      "metadata": {
        "id": "zzP5idwKL3j4"
      },
      "source": [
        "#### Elegimos la columna de interés: **Open**"
      ]
    },
    {
      "cell_type": "code",
      "metadata": {
        "id": "msv4bWMuYUNR"
      },
      "source": [
        "nt_processed = nt_completa.iloc[:,1:2].values"
      ],
      "execution_count": null,
      "outputs": []
    },
    {
      "cell_type": "markdown",
      "metadata": {
        "id": "tORNsZDMlR8I"
      },
      "source": [
        "Para la decisión del número de covariables se dará un primer vistazo al gráfico de la función de autocovarianza para 300 rezagos "
      ]
    },
    {
      "cell_type": "code",
      "metadata": {
        "id": "REly2Gg-OxXz",
        "colab": {
          "base_uri": "https://localhost:8080/",
          "height": 281
        },
        "outputId": "da64fdd5-f27f-476c-85b5-6aa67d02776d"
      },
      "source": [
        "from statsmodels.graphics.tsaplots import plot_acf\n",
        "from matplotlib import pyplot\n",
        "plot_acf(nt_processed,lags=300)\n",
        "pyplot.show()"
      ],
      "execution_count": null,
      "outputs": [
        {
          "output_type": "display_data",
          "data": {
            "image/png": "[encoded data removed]",
            "text/plain": [
              "<Figure size 432x288 with 1 Axes>"
            ]
          },
          "metadata": {
            "tags": [],
            "needs_background": "light"
          }
        }
      ]
    },
    {
      "cell_type": "markdown",
      "metadata": {
        "id": "9D6WNHNEmxWR"
      },
      "source": [
        "Se puede ver en la grafica de autocorrelación que existe una alta correlación en los primeros 300 rezagos, aún así, parecen se los primeros 60 rezagos los más correlacionados por lo que se decide tomar estos como autocovariables."
      ]
    },
    {
      "cell_type": "markdown",
      "metadata": {
        "id": "ts0B9A9Ao5-d"
      },
      "source": [
        "#### Escalamiento de los datos"
      ]
    },
    {
      "cell_type": "markdown",
      "metadata": {
        "id": "s2WJFMnHLzQT"
      },
      "source": [
        "Por regla general al trabajar con redes neuronales se deben normalizar o escalar los datos, en este caso utilizaremos el comando MinMaxScaler del paquete sklearn para escalar los datos entre 0 y 1"
      ]
    },
    {
      "cell_type": "code",
      "metadata": {
        "id": "h2LULbPJYUNZ"
      },
      "source": [
        "from sklearn.preprocessing import MinMaxScaler\n",
        "scaler = MinMaxScaler(feature_range = (0, 1))\n",
        "\n",
        "nt_training_scaled = scaler.fit_transform(nt_processed)"
      ],
      "execution_count": null,
      "outputs": []
    },
    {
      "cell_type": "markdown",
      "metadata": {
        "id": "2PGWJvGvNu6S"
      },
      "source": [
        "#### Creación de variables rezagadas"
      ]
    },
    {
      "cell_type": "markdown",
      "metadata": {
        "id": "1iR2mChUVphh"
      },
      "source": [
        "El objetivo de nuestro proyecto es poder predecir el valor de la acción de apertura de Netflix en el tiempo T basandonos en los datos de los días T-N para cualquier número de pasos N. Para nuestro caso se ha decidido utilizar N=60."
      ]
    },
    {
      "cell_type": "code",
      "metadata": {
        "id": "Jni_KICZYUNc"
      },
      "source": [
        "features_set = []\n",
        "labels = []\n",
        "for i in range(60, 1677):\n",
        "    features_set.append(nt_training_scaled[i-60:i, 0])\n",
        "    labels.append(nt_training_scaled[i, 0])"
      ],
      "execution_count": null,
      "outputs": []
    },
    {
      "cell_type": "markdown",
      "metadata": {
        "id": "5Cli_z9mbPD8"
      },
      "source": [
        "Lo que hicimos previamente fue crear dos listas(features_set y labels). Para ello creamos un ciclo que comienza desde el registro 61 y almacena los 60 registros previos en features_set y el registro 61 en la lista \"labels\".\n",
        "\n",
        "Esto se puede obsevar más claramente con el siguiente conjunto de datos"
      ]
    },
    {
      "cell_type": "code",
      "metadata": {
        "id": "f5_V-u6xP5xN",
        "colab": {
          "base_uri": "https://localhost:8080/",
          "height": 425
        },
        "outputId": "573c9542-59af-496e-ab18-a8d78743e1af"
      },
      "source": [
        "features_set[0:2]"
      ],
      "execution_count": null,
      "outputs": [
        {
          "output_type": "execute_result",
          "data": {
            "text/plain": [
              "[array([0.01489511, 0.01412811, 0.01391793, 0.00970352, 0.00668465,\n",
              "        0.00806034, 0.00705041, 0.00515611, 0.00797026, 0.00621244,\n",
              "        0.00441367, 0.00541268, 0.00545636, 0.00471119, 0.02051523,\n",
              "        0.01949984, 0.0205125 , 0.01885567, 0.02480607, 0.02589243,\n",
              "        0.02458498, 0.02720261, 0.02544205, 0.02481426, 0.02570682,\n",
              "        0.02762296, 0.03198749, 0.03213215, 0.03344779, 0.03096665,\n",
              "        0.03407013, 0.03404283, 0.0325989 , 0.03223861, 0.03451778,\n",
              "        0.03363613, 0.03760215, 0.03921259, 0.03701257, 0.0384565 ,\n",
              "        0.03519743, 0.03785328, 0.03869124, 0.03895056, 0.03871308,\n",
              "        0.03718454, 0.03559322, 0.03314754, 0.03479346, 0.03152347,\n",
              "        0.03164902, 0.03006043, 0.02937805, 0.02932346, 0.03107856,\n",
              "        0.02545297, 0.01822242, 0.01658742, 0.01604151, 0.01309634]),\n",
              " array([0.01412811, 0.01391793, 0.00970352, 0.00668465, 0.00806034,\n",
              "        0.00705041, 0.00515611, 0.00797026, 0.00621244, 0.00441367,\n",
              "        0.00541268, 0.00545636, 0.00471119, 0.02051523, 0.01949984,\n",
              "        0.0205125 , 0.01885567, 0.02480607, 0.02589243, 0.02458498,\n",
              "        0.02720261, 0.02544205, 0.02481426, 0.02570682, 0.02762296,\n",
              "        0.03198749, 0.03213215, 0.03344779, 0.03096665, 0.03407013,\n",
              "        0.03404283, 0.0325989 , 0.03223861, 0.03451778, 0.03363613,\n",
              "        0.03760215, 0.03921259, 0.03701257, 0.0384565 , 0.03519743,\n",
              "        0.03785328, 0.03869124, 0.03895056, 0.03871308, 0.03718454,\n",
              "        0.03559322, 0.03314754, 0.03479346, 0.03152347, 0.03164902,\n",
              "        0.03006043, 0.02937805, 0.02932346, 0.03107856, 0.02545297,\n",
              "        0.01822242, 0.01658742, 0.01604151, 0.01309634, 0.01344845])]"
            ]
          },
          "metadata": {
            "tags": []
          },
          "execution_count": 32
        }
      ]
    },
    {
      "cell_type": "code",
      "metadata": {
        "id": "rAlg6Yw6Q7Hp",
        "colab": {
          "base_uri": "https://localhost:8080/",
          "height": 34
        },
        "outputId": "602cab7d-4ed4-4292-f562-1f1c3b55f2fd"
      },
      "source": [
        "labels[0:2]"
      ],
      "execution_count": null,
      "outputs": [
        {
          "output_type": "execute_result",
          "data": {
            "text/plain": [
              "[0.013448452558329535, 0.01078441825646731]"
            ]
          },
          "metadata": {
            "tags": []
          },
          "execution_count": 33
        }
      ]
    },
    {
      "cell_type": "markdown",
      "metadata": {
        "id": "hPaIv49nb651"
      },
      "source": [
        "Para poder usar dichos datos para nuestro entrenamientro es necesario convertir nuestra lista como una matriz numpy con el siguiente código"
      ]
    },
    {
      "cell_type": "code",
      "metadata": {
        "id": "agwS_9Q7YUNe"
      },
      "source": [
        "features_set, labels = np.array(features_set), np.array(labels)"
      ],
      "execution_count": null,
      "outputs": []
    },
    {
      "cell_type": "markdown",
      "metadata": {
        "id": "-5QCIpPeqEU6"
      },
      "source": [
        "#### División de la variable entre entrenamiento y prueba"
      ]
    },
    {
      "cell_type": "markdown",
      "metadata": {
        "id": "wncl-eTbsuug"
      },
      "source": [
        "Para nuestro caso hemos decidido utilizar el 90% de los datos como entrenamiento y el 10/ como validación"
      ]
    },
    {
      "cell_type": "code",
      "metadata": {
        "id": "vo9IDn8noLVv"
      },
      "source": [
        "from sklearn.model_selection import train_test_split\n",
        "features_train, features_test, labels_train, labels_test=train_test_split(features_set,labels,test_size=0.1, train_size=0.9)"
      ],
      "execution_count": null,
      "outputs": []
    },
    {
      "cell_type": "markdown",
      "metadata": {
        "id": "76VvhmsltsSc"
      },
      "source": [
        "Con lo que obtenemos que las siguientes dimensiones para el entrenamiento y prueba"
      ]
    },
    {
      "cell_type": "code",
      "metadata": {
        "id": "-UTLadjCo7QY",
        "colab": {
          "base_uri": "https://localhost:8080/",
          "height": 85
        },
        "outputId": "e282a2e1-cccd-4952-de5c-a0b4e4ff300f"
      },
      "source": [
        "print(features_train.shape)\n",
        "print(features_test.shape)\n",
        "\n",
        "print(labels_train.shape)\n",
        "print(labels_test.shape)"
      ],
      "execution_count": null,
      "outputs": [
        {
          "output_type": "stream",
          "text": [
            "(1455, 60)\n",
            "(162, 60)\n",
            "(1455,)\n",
            "(162,)\n"
          ],
          "name": "stdout"
        }
      ]
    },
    {
      "cell_type": "markdown",
      "metadata": {
        "id": "wvxLkvKGOEGj"
      },
      "source": [
        "#### Cambio de forma de los datos como input de la red LSTM"
      ]
    },
    {
      "cell_type": "markdown",
      "metadata": {
        "id": "vp_5GBnRc55M"
      },
      "source": [
        "Por último, para moder entrenar nuestros datos, será necesario expresar nuestra matriz en formato de tres dimensiones ya que este es el formato aceptado por las redes LSTM.\n",
        "*   Primera dimensión: Número de filas o registros de nuestra base de entrenamiento (1455 en nuestro caso)\n",
        "*   Segunda dimensión: Número de pasos de tiempo previos (60) \n",
        "*   Tercera dimensión: Número de features, como sólo estamos trabajando **Open** nuestro indicador es 1\n",
        "\n",
        "\n",
        "\n"
      ]
    },
    {
      "cell_type": "code",
      "metadata": {
        "id": "zZvzf5WyYUNi"
      },
      "source": [
        "features_train = np.reshape(features_train, (features_train.shape[0], features_train.shape[1], 1))"
      ],
      "execution_count": null,
      "outputs": []
    },
    {
      "cell_type": "code",
      "metadata": {
        "id": "OBgwZphnwzD2",
        "colab": {
          "base_uri": "https://localhost:8080/",
          "height": 850
        },
        "outputId": "9a2d9390-a2b4-4e50-851c-c57c727e870e"
      },
      "source": [
        "features_train"
      ],
      "execution_count": null,
      "outputs": [
        {
          "output_type": "execute_result",
          "data": {
            "text/plain": [
              "array([[[0.10049077],\n",
              "        [0.10177094],\n",
              "        [0.1011213 ],\n",
              "        ...,\n",
              "        [0.10773225],\n",
              "        [0.10639478],\n",
              "        [0.10813349]],\n",
              "\n",
              "       [[0.57120555],\n",
              "        [0.57395693],\n",
              "        [0.5918791 ],\n",
              "        ...,\n",
              "        [0.48539697],\n",
              "        [0.478423  ],\n",
              "        [0.47888154]],\n",
              "\n",
              "       [[0.03188923],\n",
              "        [0.03023239],\n",
              "        [0.03119593],\n",
              "        ...,\n",
              "        [0.04593271],\n",
              "        [0.04554785],\n",
              "        [0.04394288]],\n",
              "\n",
              "       ...,\n",
              "\n",
              "       [[0.59571959],\n",
              "        [0.58586048],\n",
              "        [0.58532549],\n",
              "        ...,\n",
              "        [0.50905118],\n",
              "        [0.5142291 ],\n",
              "        [0.49840868]],\n",
              "\n",
              "       [[0.10110766],\n",
              "        [0.10220766],\n",
              "        [0.10826997],\n",
              "        ...,\n",
              "        [0.10566872],\n",
              "        [0.11140076],\n",
              "        [0.11159182]],\n",
              "\n",
              "       [[0.01309634],\n",
              "        [0.01344845],\n",
              "        [0.01078442],\n",
              "        ...,\n",
              "        [0.03744657],\n",
              "        [0.03520016],\n",
              "        [0.03469792]]])"
            ]
          },
          "metadata": {
            "tags": []
          },
          "execution_count": 64
        }
      ]
    },
    {
      "cell_type": "markdown",
      "metadata": {
        "id": "NDvWLuvQeryL"
      },
      "source": [
        "####Entrenando el LSTM"
      ]
    },
    {
      "cell_type": "markdown",
      "metadata": {
        "id": "YO4CLg3RexmL"
      },
      "source": [
        "Una vez hemos adecuado nuestra base para el entrenamiento podemos proceder a la creación de nuestro modelo.\n",
        "Nuestro LSTM será un modelo secuencial con cuatro capas seguido de una capa densa.\n",
        "\n",
        "Así que empezamos importando las librerias para la construcción del modelo"
      ]
    },
    {
      "cell_type": "code",
      "metadata": {
        "id": "YfU4wxVaYUNo"
      },
      "source": [
        "from keras.models import Sequential\n",
        "from keras.layers import Dense\n",
        "from keras.layers import LSTM\n",
        "from keras.layers import Dropout"
      ],
      "execution_count": null,
      "outputs": []
    },
    {
      "cell_type": "markdown",
      "metadata": {
        "id": "R52-OFZefwI6"
      },
      "source": [
        "El primer paso será inicializar la clase secuencial al modelo y posteriormente añadirle las capas LSTM y la capa densa al modelo"
      ]
    },
    {
      "cell_type": "code",
      "metadata": {
        "id": "PbeprAWvYUNr"
      },
      "source": [
        "model = Sequential()"
      ],
      "execution_count": null,
      "outputs": []
    },
    {
      "cell_type": "markdown",
      "metadata": {
        "id": "4gFT5ZmXjHu9"
      },
      "source": [
        "\n",
        "\n",
        "*   units=\"Número de neuronas que deseamos en la capa\"\n",
        "*   return_sequences=\"True\" si se le añadiran más capas al modelo\n",
        "*   input_shape[1,]=el primer parametro es el número de pasos de tiempo N\n",
        "*   input_shape[,2]=el segundo parametro es el número de indicadores\n",
        "\n"
      ]
    },
    {
      "cell_type": "code",
      "metadata": {
        "id": "fUdOUgjqYUNt"
      },
      "source": [
        "model.add(LSTM(units=50, return_sequences=True, input_shape=(features_train.shape[1], 1)))"
      ],
      "execution_count": null,
      "outputs": []
    },
    {
      "cell_type": "markdown",
      "metadata": {
        "id": "s8ADgFs_kwEK"
      },
      "source": [
        "Añadimos una capa \"Dropout\" la cual se utilizá para evitar el sobre ajuste de nuestro modelo"
      ]
    },
    {
      "cell_type": "code",
      "metadata": {
        "id": "z_ReDpGuYUNw"
      },
      "source": [
        "model.add(Dropout(0.2))"
      ],
      "execution_count": null,
      "outputs": []
    },
    {
      "cell_type": "markdown",
      "metadata": {
        "id": "JgKccpUxlGtX"
      },
      "source": [
        "Realizamos los mismos pasos para crear otras tres capas"
      ]
    },
    {
      "cell_type": "code",
      "metadata": {
        "id": "lNI5QcEUYUNy"
      },
      "source": [
        "model.add(LSTM(units=50, return_sequences=True))\n",
        "model.add(Dropout(0.2))\n",
        "\n",
        "model.add(LSTM(units=50, return_sequences=True))\n",
        "model.add(Dropout(0.2))\n",
        "\n",
        "model.add(LSTM(units=50))\n",
        "model.add(Dropout(0.2))"
      ],
      "execution_count": null,
      "outputs": []
    },
    {
      "cell_type": "markdown",
      "metadata": {
        "id": "pQ7obrONlO4z"
      },
      "source": [
        "y finalmente añadimos una capa densa y como solo deseamos predecir un valor dados los 60 valores previos, el valor de units=1"
      ]
    },
    {
      "cell_type": "code",
      "metadata": {
        "id": "Ok_m989sYUN1"
      },
      "source": [
        "model.add(Dense(units = 1))"
      ],
      "execution_count": null,
      "outputs": []
    },
    {
      "cell_type": "markdown",
      "metadata": {
        "id": "FaOK3Lw0lx0n"
      },
      "source": [
        "#### Compilación del modelo"
      ]
    },
    {
      "cell_type": "markdown",
      "metadata": {
        "id": "jaqtH7KTl5-g"
      },
      "source": [
        "El paso previo al entrenamiento es compilar el modelo"
      ]
    },
    {
      "cell_type": "code",
      "metadata": {
        "id": "l0qeU87uYUN3"
      },
      "source": [
        "model.compile(optimizer = 'adam', loss = 'mean_squared_error')"
      ],
      "execution_count": null,
      "outputs": []
    },
    {
      "cell_type": "markdown",
      "metadata": {
        "id": "hDOWE6p2mADa"
      },
      "source": [
        "En este caso usamos la funcion de perdida del cuadrado medio del error y el optimizador escogido para reducir dicha función de perdida es \"adam\""
      ]
    },
    {
      "cell_type": "markdown",
      "metadata": {
        "id": "9n6CcvtLnD6t"
      },
      "source": [
        "#### Entrenamiento"
      ]
    },
    {
      "cell_type": "markdown",
      "metadata": {
        "id": "3Gn2GK9SnJDN"
      },
      "source": [
        "Por último, para entrenar el modelo utilizamos la función \"fit\" con los siguientes parámetros\n",
        "\n",
        "Este proceso puede tradar unos minutos dependiendo la maquina que lo ejecute"
      ]
    },
    {
      "cell_type": "code",
      "metadata": {
        "id": "wufDlRkmYUN6",
        "colab": {
          "base_uri": "https://localhost:8080/",
          "height": 1000
        },
        "outputId": "99a3ee44-ee15-4d9b-9702-fe76b0672e50"
      },
      "source": [
        "history=model.fit(features_train, labels_train, epochs = 100, batch_size = 32,validation_split=0.1)"
      ],
      "execution_count": null,
      "outputs": [
        {
          "output_type": "stream",
          "text": [
            "Epoch 1/100\n",
            "41/41 [==============================] - 6s 143ms/step - loss: 0.0201 - val_loss: 0.0053\n",
            "Epoch 2/100\n",
            "41/41 [==============================] - 5s 113ms/step - loss: 0.0047 - val_loss: 0.0018\n",
            "Epoch 3/100\n",
            "41/41 [==============================] - 5s 113ms/step - loss: 0.0035 - val_loss: 0.0016\n",
            "Epoch 4/100\n",
            "41/41 [==============================] - 5s 111ms/step - loss: 0.0033 - val_loss: 0.0018\n",
            "Epoch 5/100\n",
            "41/41 [==============================] - 5s 112ms/step - loss: 0.0025 - val_loss: 0.0015\n",
            "Epoch 6/100\n",
            "41/41 [==============================] - 4s 109ms/step - loss: 0.0026 - val_loss: 0.0019\n",
            "Epoch 7/100\n",
            "41/41 [==============================] - 5s 111ms/step - loss: 0.0026 - val_loss: 0.0016\n",
            "Epoch 8/100\n",
            "41/41 [==============================] - 4s 108ms/step - loss: 0.0024 - val_loss: 0.0017\n",
            "Epoch 9/100\n",
            "41/41 [==============================] - 5s 110ms/step - loss: 0.0022 - val_loss: 0.0014\n",
            "Epoch 10/100\n",
            "41/41 [==============================] - 4s 108ms/step - loss: 0.0022 - val_loss: 0.0021\n",
            "Epoch 11/100\n",
            "41/41 [==============================] - 5s 113ms/step - loss: 0.0025 - val_loss: 0.0014\n",
            "Epoch 12/100\n",
            "41/41 [==============================] - 4s 109ms/step - loss: 0.0021 - val_loss: 0.0028\n",
            "Epoch 13/100\n",
            "41/41 [==============================] - 5s 110ms/step - loss: 0.0026 - val_loss: 0.0013\n",
            "Epoch 14/100\n",
            "41/41 [==============================] - 5s 111ms/step - loss: 0.0019 - val_loss: 0.0015\n",
            "Epoch 15/100\n",
            "41/41 [==============================] - 5s 115ms/step - loss: 0.0020 - val_loss: 0.0012\n",
            "Epoch 16/100\n",
            "41/41 [==============================] - 5s 112ms/step - loss: 0.0020 - val_loss: 0.0011\n",
            "Epoch 17/100\n",
            "41/41 [==============================] - 5s 113ms/step - loss: 0.0025 - val_loss: 0.0012\n",
            "Epoch 18/100\n",
            "41/41 [==============================] - 5s 115ms/step - loss: 0.0021 - val_loss: 0.0029\n",
            "Epoch 19/100\n",
            "41/41 [==============================] - 5s 115ms/step - loss: 0.0024 - val_loss: 0.0021\n",
            "Epoch 20/100\n",
            "41/41 [==============================] - 5s 116ms/step - loss: 0.0019 - val_loss: 0.0012\n",
            "Epoch 21/100\n",
            "41/41 [==============================] - 5s 112ms/step - loss: 0.0019 - val_loss: 0.0010\n",
            "Epoch 22/100\n",
            "41/41 [==============================] - 5s 112ms/step - loss: 0.0017 - val_loss: 0.0010\n",
            "Epoch 23/100\n",
            "41/41 [==============================] - 5s 111ms/step - loss: 0.0017 - val_loss: 0.0012\n",
            "Epoch 24/100\n",
            "41/41 [==============================] - 5s 111ms/step - loss: 0.0018 - val_loss: 0.0011\n",
            "Epoch 25/100\n",
            "41/41 [==============================] - 5s 116ms/step - loss: 0.0016 - val_loss: 0.0010\n",
            "Epoch 26/100\n",
            "41/41 [==============================] - 5s 113ms/step - loss: 0.0016 - val_loss: 0.0010\n",
            "Epoch 27/100\n",
            "41/41 [==============================] - 5s 117ms/step - loss: 0.0016 - val_loss: 0.0013\n",
            "Epoch 28/100\n",
            "41/41 [==============================] - 5s 114ms/step - loss: 0.0017 - val_loss: 0.0014\n",
            "Epoch 29/100\n",
            "41/41 [==============================] - 5s 111ms/step - loss: 0.0018 - val_loss: 0.0011\n",
            "Epoch 30/100\n",
            "41/41 [==============================] - 5s 117ms/step - loss: 0.0017 - val_loss: 9.7470e-04\n",
            "Epoch 31/100\n",
            "41/41 [==============================] - 5s 113ms/step - loss: 0.0017 - val_loss: 9.9768e-04\n",
            "Epoch 32/100\n",
            "41/41 [==============================] - 5s 118ms/step - loss: 0.0016 - val_loss: 9.4102e-04\n",
            "Epoch 33/100\n",
            "41/41 [==============================] - 5s 116ms/step - loss: 0.0015 - val_loss: 9.5386e-04\n",
            "Epoch 34/100\n",
            "41/41 [==============================] - 5s 120ms/step - loss: 0.0014 - val_loss: 0.0010\n",
            "Epoch 35/100\n",
            "41/41 [==============================] - 5s 117ms/step - loss: 0.0015 - val_loss: 0.0017\n",
            "Epoch 36/100\n",
            "41/41 [==============================] - 5s 113ms/step - loss: 0.0014 - val_loss: 0.0011\n",
            "Epoch 37/100\n",
            "41/41 [==============================] - 5s 113ms/step - loss: 0.0016 - val_loss: 0.0010\n",
            "Epoch 38/100\n",
            "41/41 [==============================] - 5s 113ms/step - loss: 0.0014 - val_loss: 0.0012\n",
            "Epoch 39/100\n",
            "41/41 [==============================] - 5s 117ms/step - loss: 0.0014 - val_loss: 9.2323e-04\n",
            "Epoch 40/100\n",
            "41/41 [==============================] - 5s 124ms/step - loss: 0.0013 - val_loss: 8.5957e-04\n",
            "Epoch 41/100\n",
            "41/41 [==============================] - 5s 115ms/step - loss: 0.0015 - val_loss: 9.2181e-04\n",
            "Epoch 42/100\n",
            "41/41 [==============================] - 5s 115ms/step - loss: 0.0015 - val_loss: 8.6040e-04\n",
            "Epoch 43/100\n",
            "41/41 [==============================] - 5s 115ms/step - loss: 0.0013 - val_loss: 9.6356e-04\n",
            "Epoch 44/100\n",
            "41/41 [==============================] - 5s 119ms/step - loss: 0.0013 - val_loss: 8.8938e-04\n",
            "Epoch 45/100\n",
            "41/41 [==============================] - 5s 117ms/step - loss: 0.0015 - val_loss: 9.0255e-04\n",
            "Epoch 46/100\n",
            "41/41 [==============================] - 5s 119ms/step - loss: 0.0013 - val_loss: 8.9382e-04\n",
            "Epoch 47/100\n",
            "41/41 [==============================] - 5s 116ms/step - loss: 0.0014 - val_loss: 0.0011\n",
            "Epoch 48/100\n",
            "41/41 [==============================] - 5s 123ms/step - loss: 0.0013 - val_loss: 8.5453e-04\n",
            "Epoch 49/100\n",
            "41/41 [==============================] - 5s 117ms/step - loss: 0.0013 - val_loss: 7.9926e-04\n",
            "Epoch 50/100\n",
            "41/41 [==============================] - 5s 116ms/step - loss: 0.0012 - val_loss: 7.5333e-04\n",
            "Epoch 51/100\n",
            "41/41 [==============================] - 5s 125ms/step - loss: 0.0011 - val_loss: 0.0011\n",
            "Epoch 52/100\n",
            "41/41 [==============================] - 5s 116ms/step - loss: 0.0015 - val_loss: 0.0014\n",
            "Epoch 53/100\n",
            "41/41 [==============================] - 5s 119ms/step - loss: 0.0012 - val_loss: 7.5729e-04\n",
            "Epoch 54/100\n",
            "41/41 [==============================] - 5s 116ms/step - loss: 0.0013 - val_loss: 8.9185e-04\n",
            "Epoch 55/100\n",
            "41/41 [==============================] - 5s 115ms/step - loss: 0.0013 - val_loss: 7.0923e-04\n",
            "Epoch 56/100\n",
            "41/41 [==============================] - 5s 118ms/step - loss: 0.0013 - val_loss: 8.7379e-04\n",
            "Epoch 57/100\n",
            "41/41 [==============================] - 5s 119ms/step - loss: 0.0011 - val_loss: 7.5400e-04\n",
            "Epoch 58/100\n",
            "41/41 [==============================] - 5s 119ms/step - loss: 0.0012 - val_loss: 6.7907e-04\n",
            "Epoch 59/100\n",
            "41/41 [==============================] - 5s 118ms/step - loss: 0.0012 - val_loss: 7.5551e-04\n",
            "Epoch 60/100\n",
            "41/41 [==============================] - 5s 114ms/step - loss: 0.0012 - val_loss: 7.5623e-04\n",
            "Epoch 61/100\n",
            "41/41 [==============================] - 5s 118ms/step - loss: 0.0011 - val_loss: 6.4023e-04\n",
            "Epoch 62/100\n",
            "41/41 [==============================] - 5s 116ms/step - loss: 0.0011 - val_loss: 0.0012\n",
            "Epoch 63/100\n",
            "41/41 [==============================] - 5s 118ms/step - loss: 0.0011 - val_loss: 8.3026e-04\n",
            "Epoch 64/100\n",
            "41/41 [==============================] - 5s 116ms/step - loss: 0.0013 - val_loss: 9.7587e-04\n",
            "Epoch 65/100\n",
            "41/41 [==============================] - 5s 118ms/step - loss: 0.0012 - val_loss: 7.4616e-04\n",
            "Epoch 66/100\n",
            "41/41 [==============================] - 5s 117ms/step - loss: 0.0013 - val_loss: 0.0012\n",
            "Epoch 67/100\n",
            "41/41 [==============================] - 5s 119ms/step - loss: 0.0011 - val_loss: 6.7632e-04\n",
            "Epoch 68/100\n",
            "41/41 [==============================] - 5s 122ms/step - loss: 0.0012 - val_loss: 6.4289e-04\n",
            "Epoch 69/100\n",
            "41/41 [==============================] - 5s 122ms/step - loss: 0.0012 - val_loss: 5.9626e-04\n",
            "Epoch 70/100\n",
            "41/41 [==============================] - 5s 113ms/step - loss: 0.0011 - val_loss: 5.7341e-04\n",
            "Epoch 71/100\n",
            "41/41 [==============================] - 5s 117ms/step - loss: 0.0011 - val_loss: 5.5581e-04\n",
            "Epoch 72/100\n",
            "41/41 [==============================] - 5s 118ms/step - loss: 0.0012 - val_loss: 5.6354e-04\n",
            "Epoch 73/100\n",
            "41/41 [==============================] - 5s 117ms/step - loss: 0.0010 - val_loss: 9.7551e-04\n",
            "Epoch 74/100\n",
            "41/41 [==============================] - 5s 116ms/step - loss: 0.0011 - val_loss: 6.4844e-04\n",
            "Epoch 75/100\n",
            "41/41 [==============================] - 5s 115ms/step - loss: 0.0014 - val_loss: 0.0011\n",
            "Epoch 76/100\n",
            "41/41 [==============================] - 6s 158ms/step - loss: 0.0011 - val_loss: 5.8189e-04\n",
            "Epoch 77/100\n",
            "41/41 [==============================] - 7s 163ms/step - loss: 9.9644e-04 - val_loss: 0.0010\n",
            "Epoch 78/100\n",
            "41/41 [==============================] - 5s 117ms/step - loss: 9.5185e-04 - val_loss: 6.1684e-04\n",
            "Epoch 79/100\n",
            "41/41 [==============================] - 5s 117ms/step - loss: 9.8770e-04 - val_loss: 5.1210e-04\n",
            "Epoch 80/100\n",
            "41/41 [==============================] - 5s 115ms/step - loss: 0.0012 - val_loss: 5.1974e-04\n",
            "Epoch 81/100\n",
            "41/41 [==============================] - 5s 116ms/step - loss: 0.0011 - val_loss: 5.4689e-04\n",
            "Epoch 82/100\n",
            "41/41 [==============================] - 5s 118ms/step - loss: 9.9074e-04 - val_loss: 5.1928e-04\n",
            "Epoch 83/100\n",
            "41/41 [==============================] - 5s 116ms/step - loss: 9.0392e-04 - val_loss: 5.2439e-04\n",
            "Epoch 84/100\n",
            "41/41 [==============================] - 5s 120ms/step - loss: 9.6835e-04 - val_loss: 5.5748e-04\n",
            "Epoch 85/100\n",
            "41/41 [==============================] - 5s 116ms/step - loss: 0.0010 - val_loss: 6.2285e-04\n",
            "Epoch 86/100\n",
            "41/41 [==============================] - 5s 119ms/step - loss: 0.0011 - val_loss: 5.7730e-04\n",
            "Epoch 87/100\n",
            "41/41 [==============================] - 5s 117ms/step - loss: 0.0010 - val_loss: 8.0736e-04\n",
            "Epoch 88/100\n",
            "41/41 [==============================] - 5s 118ms/step - loss: 0.0011 - val_loss: 6.2022e-04\n",
            "Epoch 89/100\n",
            "41/41 [==============================] - 5s 125ms/step - loss: 8.5145e-04 - val_loss: 4.6806e-04\n",
            "Epoch 90/100\n",
            "41/41 [==============================] - 5s 119ms/step - loss: 8.8789e-04 - val_loss: 4.7447e-04\n",
            "Epoch 91/100\n",
            "41/41 [==============================] - 5s 125ms/step - loss: 8.6393e-04 - val_loss: 5.9427e-04\n",
            "Epoch 92/100\n",
            "41/41 [==============================] - 5s 117ms/step - loss: 0.0010 - val_loss: 5.5157e-04\n",
            "Epoch 93/100\n",
            "41/41 [==============================] - 5s 119ms/step - loss: 8.5601e-04 - val_loss: 5.5441e-04\n",
            "Epoch 94/100\n",
            "41/41 [==============================] - 5s 124ms/step - loss: 9.0957e-04 - val_loss: 0.0012\n",
            "Epoch 95/100\n",
            "41/41 [==============================] - 5s 120ms/step - loss: 0.0010 - val_loss: 4.8883e-04\n",
            "Epoch 96/100\n",
            "41/41 [==============================] - 5s 122ms/step - loss: 9.4639e-04 - val_loss: 0.0011\n",
            "Epoch 97/100\n",
            "41/41 [==============================] - 5s 118ms/step - loss: 0.0011 - val_loss: 8.4118e-04\n",
            "Epoch 98/100\n",
            "41/41 [==============================] - 5s 116ms/step - loss: 9.0101e-04 - val_loss: 4.7507e-04\n",
            "Epoch 99/100\n",
            "41/41 [==============================] - 5s 115ms/step - loss: 8.9532e-04 - val_loss: 4.3806e-04\n",
            "Epoch 100/100\n",
            "41/41 [==============================] - 5s 118ms/step - loss: 8.3032e-04 - val_loss: 4.4589e-04\n"
          ],
          "name": "stdout"
        }
      ]
    },
    {
      "cell_type": "markdown",
      "metadata": {
        "id": "86kUx7Lhv5Jb"
      },
      "source": [
        "Para graficar la función de perdida ejecutamos el siguiente código"
      ]
    },
    {
      "cell_type": "code",
      "metadata": {
        "id": "ahqJx13ua7tF",
        "colab": {
          "base_uri": "https://localhost:8080/",
          "height": 295
        },
        "outputId": "e1210034-d7e4-4b7e-f368-60f311ddad8e"
      },
      "source": [
        "plt.figure()\n",
        "plt.plot(history.history['loss'])\n",
        "plt.plot(history.history['val_loss'])\n",
        "plt.title('Model loss')\n",
        "plt.ylabel('Loss')\n",
        "plt.xlabel('Epoch')\n",
        "plt.legend(['Train', 'Test'], loc='upper left')\n",
        "plt.show()"
      ],
      "execution_count": null,
      "outputs": [
        {
          "output_type": "display_data",
          "data": {
            "image/png": "[encoded data removed]",
            "text/plain": [
              "<Figure size 432x288 with 1 Axes>"
            ]
          },
          "metadata": {
            "tags": [],
            "needs_background": "light"
          }
        }
      ]
    },
    {
      "cell_type": "markdown",
      "metadata": {
        "id": "biEaQKqgwFE0"
      },
      "source": [
        "En la grafica anterior se nota el rapido descenso de la función de perdida, lo que nos sugiere que el modelo se esta ajustando bien a los datos y por ende, el error cuadratico medio está disminuyendo"
      ]
    },
    {
      "cell_type": "markdown",
      "metadata": {
        "id": "v0Lwj141p591"
      },
      "source": [
        "#### Testeo de nuestro modelo LSTM"
      ]
    },
    {
      "cell_type": "markdown",
      "metadata": {
        "id": "_Eyj6OpVp-AN"
      },
      "source": [
        "Hemos entrenado exitosamente nuestro modelo, nuestro siguiente paso será observar que tan bien se ajusta a datos que no estuvieron presentes  en el entrenamiento. En nuestro caso nuestros datos de testeo serán el valor de la apertura de las acciones de Netflix los 162 días posteriores a los datos de entrenamiento.\n"
      ]
    },
    {
      "cell_type": "markdown",
      "metadata": {
        "id": "n2W8YwL8rWPS"
      },
      "source": [
        "Como requerimos de los 60 registros previos para poder predecir en nuestro modelo, el siguiente paso es añadir nuestros 60 datos previos al primer valor de testeo"
      ]
    },
    {
      "cell_type": "code",
      "metadata": {
        "id": "wVe8u7Y1YUOB"
      },
      "source": [
        "test_inputs =nt_training_scaled[len(nt_training_scaled) - len(features_test) - 60:]"
      ],
      "execution_count": null,
      "outputs": []
    },
    {
      "cell_type": "code",
      "metadata": {
        "id": "S_Z_xXgT-ZlH",
        "colab": {
          "base_uri": "https://localhost:8080/",
          "height": 34
        },
        "outputId": "410133f0-a38e-4141-ee85-a59453403f3c"
      },
      "source": [
        "len(test_inputs)"
      ],
      "execution_count": null,
      "outputs": [
        {
          "output_type": "execute_result",
          "data": {
            "text/plain": [
              "222"
            ]
          },
          "metadata": {
            "tags": []
          },
          "execution_count": 49
        }
      ]
    },
    {
      "cell_type": "markdown",
      "metadata": {
        "id": "Ks0hG5-9vfau"
      },
      "source": [
        "Creamos nuestro conjunto de 60 datos para los test_feature, los convertimos en matrices y los escribimos en su formato de tercera dimensión"
      ]
    },
    {
      "cell_type": "code",
      "metadata": {
        "id": "cRkS_ZweYUOF"
      },
      "source": [
        "test_features = []\n",
        "for i in range(60,222):\n",
        "    test_features.append(test_inputs[i-60:i, 0])"
      ],
      "execution_count": null,
      "outputs": []
    },
    {
      "cell_type": "code",
      "metadata": {
        "id": "gZHLv8_SYUOI"
      },
      "source": [
        "test_features = np.array(test_features)\n",
        "test_features = np.reshape(test_features, (test_features.shape[0], test_features.shape[1], 1))"
      ],
      "execution_count": null,
      "outputs": []
    },
    {
      "cell_type": "markdown",
      "metadata": {
        "id": "iaVnLOguv5iC"
      },
      "source": [
        "#### Predicciones"
      ]
    },
    {
      "cell_type": "markdown",
      "metadata": {
        "id": "MSrIuSbDwBZ_"
      },
      "source": [
        "Ya que hemos preprocesado nuestros datos de testeo los podemos usar para realizar predicciones, basta con hacer uso de la función predict en el modelo que creamos."
      ]
    },
    {
      "cell_type": "code",
      "metadata": {
        "id": "pK6Aop6IYUOL"
      },
      "source": [
        "predictions = model.predict(test_features)"
      ],
      "execution_count": null,
      "outputs": []
    },
    {
      "cell_type": "markdown",
      "metadata": {
        "id": "GQOcc_MkwhHf"
      },
      "source": [
        "Como los datos estuvieron escalados al entrar al modelo, su predicción también estará escalada por lo que ejecutamos la función inverse_transform como sigue"
      ]
    },
    {
      "cell_type": "code",
      "metadata": {
        "id": "QC10fs_qYUOO"
      },
      "source": [
        "predictions = scaler.inverse_transform(predictions)"
      ],
      "execution_count": null,
      "outputs": []
    },
    {
      "cell_type": "code",
      "metadata": {
        "id": "BGUZ5C8mAJEt"
      },
      "source": [
        "label_test1=nt_processed[1515:1677]"
      ],
      "execution_count": null,
      "outputs": []
    },
    {
      "cell_type": "markdown",
      "metadata": {
        "id": "Qmi_i10MxAkP"
      },
      "source": [
        "Finalmente miremos qué tan bien está prediciendo nuestro modelo"
      ]
    },
    {
      "cell_type": "code",
      "metadata": {
        "id": "yxt5sbwbYUOQ",
        "colab": {
          "base_uri": "https://localhost:8080/",
          "height": 404
        },
        "outputId": "e66a7030-9bdf-43ab-aeaa-c46a692a6b06"
      },
      "source": [
        "plt.figure(figsize=(10,6))\n",
        "plt.plot(label_test1, color='blue', label='Actual Netflix Stock Price')\n",
        "plt.plot(predictions , color='red', label='Predicted Netflix Stock Price')\n",
        "plt.title('Netflix Stock Price Prediction')\n",
        "plt.xlabel('Date')\n",
        "plt.ylabel('Netflix Stock Price')\n",
        "plt.legend()\n",
        "plt.show()"
      ],
      "execution_count": null,
      "outputs": [
        {
          "output_type": "display_data",
          "data": {
            "image/png": "[encoded data removed]",
            "text/plain": [
              "<Figure size 720x432 with 1 Axes>"
            ]
          },
          "metadata": {
            "tags": [],
            "needs_background": "light"
          }
        }
      ]
    },
    {
      "cell_type": "code",
      "metadata": {
        "id": "sUk1nr8mjKcs",
        "colab": {
          "base_uri": "https://localhost:8080/",
          "height": 34
        },
        "outputId": "bddb00eb-0036-4154-c111-5bbaa7089e82"
      },
      "source": [
        "error=mean_squared_error(label_test1,predictions)\n",
        "print(\"El error es\", error, predictions.shape, label_test1.shape)"
      ],
      "execution_count": null,
      "outputs": [
        {
          "output_type": "stream",
          "text": [
            "El error es 212.66488348209447 (162, 1) (162, 1)\n"
          ],
          "name": "stdout"
        }
      ]
    },
    {
      "cell_type": "markdown",
      "metadata": {
        "id": "ZgaG4GmVbPEQ"
      },
      "source": [
        "Podemos apreciar que el modelo logra capturar gran parte del comportamiento del modelo "
      ]
    }
  ]
}